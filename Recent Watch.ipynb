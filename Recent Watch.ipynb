{
 "cells": [
  {
   "cell_type": "code",
   "execution_count": 1,
   "metadata": {},
   "outputs": [],
   "source": [
    "from bs4 import BeautifulSoup\n",
    "from selenium.webdriver import Chrome\n",
    "from selenium.webdriver.chrome.options import Options\n",
    "from selenium.webdriver.support.ui import WebDriverWait\n",
    "from selenium.webdriver.support import expected_conditions as EC\n",
    "from selenium.webdriver.common.by import By\n",
    "from contextlib import closing"
   ]
  },
  {
   "cell_type": "code",
   "execution_count": 3,
   "metadata": {},
   "outputs": [],
   "source": [
    "options = Options()  \n",
    "options.add_argument(\"start-maximized\")\n",
    "options.add_argument(\"disable-infobars\")\n",
    "options.add_argument(\"--headless\")"
   ]
  },
  {
   "cell_type": "code",
   "execution_count": 106,
   "metadata": {
    "scrolled": true
   },
   "outputs": [],
   "source": [
    "html = \"bookmarks_27_08_2020.html\"\n",
    "page = open(html,'rb')\n",
    "soup = BeautifulSoup(page)\n",
    "\n",
    "\n",
    "all_link = []\n",
    "for i in soup.find_all('a'):\n",
    "    all_link.append(i['href'])\n"
   ]
  },
  {
   "cell_type": "code",
   "execution_count": 101,
   "metadata": {
    "scrolled": true
   },
   "outputs": [],
   "source": [
    "def recent(time_ls):\n",
    "    \n",
    "    in_24hrs = []\n",
    "    for i,k in enumerate(time_ls):\n",
    "        if \"hours\" in k[1]:\n",
    "            if int(k[1].split()[0]) < 24:\n",
    "#                 print(k)\n",
    "                in_24hrs.append(k[0]+'-'+k[1]+'-'+flat[i])\n",
    "                \n",
    "    return in_24hrs"
   ]
  },
  {
   "cell_type": "code",
   "execution_count": 104,
   "metadata": {
    "scrolled": true
   },
   "outputs": [],
   "source": [
    "def process(url):\n",
    "    \n",
    "    global flat,sep\n",
    "    \n",
    "    data = {}\n",
    "    data['channel name'] = []\n",
    "    \n",
    "    video_link =  []\n",
    "    sep =         []\n",
    "    \n",
    "    with closing(Chrome(chrome_options=options,executable_path='chromedriver.exe')) as driver:\n",
    "        wait = WebDriverWait(driver,10)\n",
    "        driver.get(url)\n",
    "        if len(driver.find_elements_by_id('channel-name')) > 2:\n",
    "            print(url)\n",
    "            title = wait.until(EC.presence_of_element_located((By.CSS_SELECTOR,\"ytd-channel-name yt-formatted-string\"))).text\n",
    "            data['channel name'].append(title)\n",
    "            video_title = [my_href.text for my_href in WebDriverWait(driver, 5).until(EC.visibility_of_all_elements_located((By.CSS_SELECTOR, \"a.yt-simple-endpoint.style-scope.ytd-grid-video-renderer\")))]\n",
    "            video_link.append([my_href.get_attribute(\"href\") for my_href in WebDriverWait(driver, 5).until(EC.visibility_of_all_elements_located((By.CSS_SELECTOR, \"a.yt-simple-endpoint.style-scope.ytd-grid-video-renderer#video-title\")))])\n",
    "            info = [my_href.text for my_href in WebDriverWait(driver, 5).until(EC.visibility_of_all_elements_located((By.CSS_SELECTOR, \"span.style-scope.ytd-grid-video-renderer\")))]\n",
    "        for _,c in enumerate(info):\n",
    "            if _ == 0 or _ % 2 == 0:\n",
    "                sep.append(info[_:_ +2])\n",
    "                    \n",
    "        flat = [item for sub in video_link for item in sub]\n",
    "        print(sep)\n",
    "#         print(recent(sep))\n",
    "        if len(video_title) != 0 :\n",
    "            for i,v in enumerate(video_title[:len(recent(sep))]):\n",
    "                data[i] = {}\n",
    "                data[i]['title'] = video_title[i]\n",
    "                print(recent(sep))\n",
    "                data[i]['link']  = recent(sep)[0].split('-')[2]\n",
    "                data[i]['view']  = recent(sep)[0].split('-')[0]\n",
    "                data[i]['about']  = recent(sep)[0].split('-')[1]\n",
    "        \n",
    "            \n",
    "    return data "
   ]
  },
  {
   "cell_type": "code",
   "execution_count": 105,
   "metadata": {},
   "outputs": [
    {
     "name": "stderr",
     "output_type": "stream",
     "text": [
      "C:\\ProgramData\\Anaconda\\lib\\site-packages\\ipykernel_launcher.py:14: DeprecationWarning: use options instead of chrome_options\n",
      "  \n"
     ]
    },
    {
     "name": "stdout",
     "output_type": "stream",
     "text": [
      "https://www.youtube.com/channel/UCxbnusnWf7R3V8DpGkTLtZQ/videos\n",
      "[['208 views', '16 hours ago'], ['35 views', '1 day ago'], ['99 views', '1 day ago'], ['38 views', '1 day ago'], ['37 views', '1 day ago'], ['34 views', '2 days ago'], ['29 views', '2 days ago'], ['238 views', '3 days ago'], ['199 views', '4 days ago'], ['79 views', '4 days ago'], ['93 views', '5 days ago'], ['128 views', '5 days ago'], ['99 views', '6 days ago'], ['310 views', '1 week ago'], ['463 views', '1 week ago'], ['474 views', '1 week ago'], ['175 views', '1 week ago'], ['97 views', '1 week ago'], ['407 views', '1 week ago'], ['146 views', '1 week ago'], ['397 views', '2 weeks ago'], ['454 views', '2 weeks ago'], ['44 views', '2 weeks ago'], ['427 views', '2 weeks ago'], ['106 views', '2 weeks ago'], ['136 views', '2 weeks ago'], ['227 views', '2 weeks ago'], ['31 views', '2 weeks ago'], ['464 views', '2 weeks ago'], ['352 views', '2 weeks ago']]\n",
      "['208 views-16 hours ago-https://www.youtube.com/watch?v=fF-MSeg_ZEc']\n"
     ]
    },
    {
     "data": {
      "text/plain": [
       "{'channel name': ['Lisa Pham Khai Dân Trí'],\n",
       " 0: {'title': 'Lisa Pham Vấn Đáp Ngày 28 08 2020',\n",
       "  'link': 'https://www.youtube.com/watch?v=fF',\n",
       "  'view': '208 views',\n",
       "  'Time': '16 hours ago'}}"
      ]
     },
     "execution_count": 105,
     "metadata": {},
     "output_type": "execute_result"
    }
   ],
   "source": [
    "process(all_link[3])"
   ]
  }
 ],
 "metadata": {
  "kernelspec": {
   "display_name": "Python 3",
   "language": "python",
   "name": "python3"
  },
  "language_info": {
   "codemirror_mode": {
    "name": "ipython",
    "version": 3
   },
   "file_extension": ".py",
   "mimetype": "text/x-python",
   "name": "python",
   "nbconvert_exporter": "python",
   "pygments_lexer": "ipython3",
   "version": "3.7.3"
  }
 },
 "nbformat": 4,
 "nbformat_minor": 2
}
